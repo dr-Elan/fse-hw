{
 "cells": [
  {
   "cell_type": "markdown",
   "id": "869857fa",
   "metadata": {},
   "source": [
    "# HW_2: SVM, KNN"
   ]
  },
  {
   "cell_type": "markdown",
   "id": "c78c68ca",
   "metadata": {},
   "source": [
    "### Задание 0. Импорт и анализ датасета Iris"
   ]
  },
  {
   "cell_type": "code",
   "execution_count": null,
   "id": "272f6380",
   "metadata": {
    "id": "uaoa9hRymi5S"
   },
   "outputs": [],
   "source": [
    "from sklearn.datasets import load_iris\n",
    "# Download dataset\n",
    "data, labels = load_iris(return_X_y=True)"
   ]
  },
  {
   "cell_type": "markdown",
   "id": "d93af6d0",
   "metadata": {
    "id": "ZJHyI7s5mi5S"
   },
   "source": [
    "И `data`, и `labels` - это N-мерные массивы. **Посмотрите какие у них размеры**"
   ]
  },
  {
   "cell_type": "code",
   "execution_count": null,
   "id": "0f742fbe",
   "metadata": {
    "colab": {
     "base_uri": "https://localhost:8080/"
    },
    "id": "GQ5HdOdHmi5S",
    "outputId": "c53ed1d8-9442-4973-9e67-960b7b71bbb5"
   },
   "outputs": [],
   "source": [
    "# Enter your code here"
   ]
  },
  {
   "cell_type": "markdown",
   "id": "1f9ce407",
   "metadata": {
    "id": "qPQMxobLmi5S"
   },
   "source": [
    "Видим, что массив `data` состоит из нескольких колонок. Такие колонки мы называем *features*. Набор данных по ирисам содержит четыре характеристики (длина чашелистиков, ширина чашелистиков, длина лепестков, ширина лепестков) 50 образцов трех видов ирисов (setosa, virginica и  versicolor). Вид ирисов отражен в массиве `labels`. \n",
    "\n",
    "**Отфильтруйте массив `data` таким образом, что бы он содержал в себе только ирисы из класса `0`**. Для этого используйте конструкцию `labels == class` в качестве индекса для `data`"
   ]
  },
  {
   "cell_type": "code",
   "execution_count": null,
   "id": "aed085d7",
   "metadata": {
    "colab": {
     "base_uri": "https://localhost:8080/"
    },
    "id": "-oHOMo2Xmi5T",
    "outputId": "4266fdb5-25e5-4e1c-ca55-50947e97911e"
   },
   "outputs": [],
   "source": [
    "data_0 = # Enter your code here\n",
    "data_1 = # Enter your code here\n",
    "data_2 = # Enter your code here"
   ]
  },
  {
   "cell_type": "markdown",
   "id": "5f0f2f96",
   "metadata": {
    "id": "wWfR1C5hmi5T"
   },
   "source": [
    "К сожалению, когда данных много, просто смотреть на цифры крайне не информативно. \n",
    "\n",
    "Для визуализации данных в этом курсе мы будем использовать библиотеку `matplotlib`. **Давайте ее импортируем**"
   ]
  },
  {
   "cell_type": "code",
   "execution_count": null,
   "id": "7419a4bd",
   "metadata": {
    "id": "qUKYLYb6mi5T"
   },
   "outputs": [],
   "source": [
    "import matplotlib.pyplot as plt"
   ]
  },
  {
   "cell_type": "markdown",
   "id": "3ac54a36",
   "metadata": {
    "id": "QbrQokcEmi5T"
   },
   "source": [
    "**Постройте на одном рисунке график** признака с **индексом 0** (sepal length in cm) для каждого из **3 классов** (3 графика на одном рисунке). Для построения графика используйте функцию `plt.plot()`. Для того что бы получить доступ ко всем объектам в позиции 0 используйте index notation `[:, 0]`."
   ]
  },
  {
   "cell_type": "markdown",
   "id": "8ee37050",
   "metadata": {
    "id": "qXSTLjTmmi5U"
   },
   "source": [
    "**Для каждого класса постройте зависимость ширины от длины чашелистиков**. Используйте `ax.scatter()`"
   ]
  },
  {
   "cell_type": "code",
   "execution_count": null,
   "id": "a56e2ee6",
   "metadata": {},
   "outputs": [],
   "source": [
    "# Enter your code here"
   ]
  },
  {
   "cell_type": "markdown",
   "id": "5dc55d90",
   "metadata": {},
   "source": [
    "## KNN"
   ]
  },
  {
   "cell_type": "markdown",
   "id": "a13b0045",
   "metadata": {
    "id": "3RqKu_xRmi5W"
   },
   "source": [
    "### Задание 1. Алгоритм Nearest Neighbors.\n"
   ]
  },
  {
   "cell_type": "markdown",
   "id": "bf44bf1a",
   "metadata": {
    "id": "gw1cQNBRmi5W"
   },
   "source": [
    "\n",
    "Хотя в лекции дан пример для изображений, реализация для табличных данных будет проще, либо вообще может не отличаться от предложенной.\n",
    "\n",
    "P.S. Nearest Neighbor это  K-Nearest Neighbors при K = 1"
   ]
  },
  {
   "cell_type": "markdown",
   "id": "d2d04616",
   "metadata": {
    "id": "3PnEz17tmi5X"
   },
   "source": [
    "Разбейте ваши данные на тренировочный и тестовый набор при помощи метода `train_test_split()`. Используйте следующие аргументы `train_size=0.6`, `random_state=42`, `stratify=labels`"
   ]
  },
  {
   "cell_type": "code",
   "execution_count": null,
   "id": "a7532eb6",
   "metadata": {
    "colab": {
     "base_uri": "https://localhost:8080/"
    },
    "id": "5K9eigCPmi5X",
    "outputId": "fec4698b-daa0-4d39-f255-0cb0c79ed18d"
   },
   "outputs": [],
   "source": [
    "from sklearn.model_selection import train_test_split\n",
    "\n",
    "x_train, x_test, y_train, y_test = train_test_split(data, labels, train_size=0.6, random_state=42, stratify=labels)\n",
    "print(\"x_train\", x_train.shape)\n",
    "print(\"x_test\", x_test.shape)"
   ]
  },
  {
   "cell_type": "markdown",
   "id": "5ec59ddb",
   "metadata": {
    "id": "5qRVGMQMmi5X"
   },
   "source": [
    "Напишите функцию, которая считает расстояние L1 между 2мя векторами\n"
   ]
  },
  {
   "cell_type": "code",
   "execution_count": null,
   "id": "3e7328d6",
   "metadata": {
    "colab": {
     "base_uri": "https://localhost:8080/"
    },
    "id": "nvUgz6KKmi5X",
    "outputId": "0c8dd3f1-c09b-4f35-847d-f2469e12d771"
   },
   "outputs": [],
   "source": [
    "def compute_L1(a, b):\n",
    "    dist = # Enter your code here\n",
    "    return np.sum(dist)\n",
    "#checking\n",
    "a = np.array([1,2,3,4])\n",
    "b = np.array([2,1,3,4])\n",
    "compute_L1(a, b)"
   ]
  },
  {
   "cell_type": "markdown",
   "id": "d1c6d936",
   "metadata": {
    "id": "L10-TkbBmi5X"
   },
   "source": [
    "Возьмите первую строку из тестового набора. Посчитайте расстояние L1 от нее до всех строк тренировочного набора.\n",
    "\n",
    "В простейшем виде напишите `for loop`, если вы знаете что вы делаете - можете использовать *векторизацию*"
   ]
  },
  {
   "cell_type": "code",
   "execution_count": null,
   "id": "8257f43e",
   "metadata": {
    "colab": {
     "base_uri": "https://localhost:8080/"
    },
    "id": "hhb7nKXFmi5X",
    "outputId": "89bd05ab-3f76-4108-f34e-f2ce67af47ed"
   },
   "outputs": [],
   "source": [
    "# Your code here \n",
    "distances = np.array([# Enter your code here])\n",
    "distances"
   ]
  },
  {
   "cell_type": "markdown",
   "id": "08d14b8c",
   "metadata": {
    "id": "Qox4OIf-mi5X"
   },
   "source": [
    "Найдите индекс минимального расстояния\n",
    "\n",
    "Используйте `np.argmin()`"
   ]
  },
  {
   "cell_type": "code",
   "execution_count": null,
   "id": "ff24918c",
   "metadata": {
    "colab": {
     "base_uri": "https://localhost:8080/"
    },
    "id": "Pnzdnc_tmi5Y",
    "outputId": "edcf667c-f928-4cba-98b8-ecc00fdead1c"
   },
   "outputs": [],
   "source": [
    "indx = # Enter your code here"
   ]
  },
  {
   "cell_type": "markdown",
   "id": "22f66696",
   "metadata": {
    "id": "FLg1LgWymi5Y"
   },
   "source": [
    "Выведете на экран свойства первого ириса в тестовом наборе и ириса, который максимально на него похож в тренировочном(минимальное расстояние)"
   ]
  },
  {
   "cell_type": "code",
   "execution_count": null,
   "id": "973c8abc",
   "metadata": {
    "colab": {
     "base_uri": "https://localhost:8080/"
    },
    "id": "vlEVGbkBmi5Y",
    "outputId": "76b53f99-ff53-418f-97b2-e1db4ecc181f"
   },
   "outputs": [],
   "source": [
    "# Enter your code here"
   ]
  },
  {
   "cell_type": "markdown",
   "id": "59cc7928",
   "metadata": {
    "id": "MPq-AVjhmi5Y"
   },
   "source": [
    "Выведите их метки"
   ]
  },
  {
   "cell_type": "code",
   "execution_count": null,
   "id": "dd2ddd1a",
   "metadata": {
    "colab": {
     "base_uri": "https://localhost:8080/"
    },
    "id": "sRBgC1zTmi5Y",
    "outputId": "d7ad5574-ca54-4b59-93c9-fe6b1d73828a"
   },
   "outputs": [],
   "source": [
    "print('first iris in test labels', # Enter your code here)\n",
    "print('most similar iris in train labels', # Enter your code here)"
   ]
  },
  {
   "cell_type": "markdown",
   "id": "dbff9c74",
   "metadata": {
    "id": "PF_scTHqmi5Y"
   },
   "source": [
    "Посчитайте двумерный массив расстояний от каждого ириса в тестовом наборе до каждого ириса в тренировочном. Размерность массива должна получиться (60, 90)"
   ]
  },
  {
   "cell_type": "code",
   "execution_count": null,
   "id": "e45683ff",
   "metadata": {
    "id": "QrpttrnDmi5Y"
   },
   "outputs": [],
   "source": [
    "def compute_distances(train, test, distance_func):\n",
    "    distances = # Enter your code here\n",
    "    return distances"
   ]
  },
  {
   "cell_type": "markdown",
   "id": "fdccf310",
   "metadata": {
    "id": "S0eMgvY8mi5Z"
   },
   "source": [
    "Определите точность Nearest Neighbors классификации\n",
    "\n",
    "Для этого найдите индекс минимального значения для каждой строки массива distances"
   ]
  },
  {
   "cell_type": "code",
   "execution_count": null,
   "id": "03e88f32",
   "metadata": {
    "colab": {
     "base_uri": "https://localhost:8080/"
    },
    "id": "68kQtgxqmi5Z",
    "outputId": "7de5e3a1-81a4-4128-8569-460d5fbfc1a9"
   },
   "outputs": [],
   "source": [
    "indx_distances =np.array([# Enter your code here])"
   ]
  },
  {
   "cell_type": "markdown",
   "id": "da970aba",
   "metadata": {
    "id": "BBeVgzIJmi5Z"
   },
   "source": [
    "Теперь создадим массив `predicted_class`"
   ]
  },
  {
   "cell_type": "code",
   "execution_count": null,
   "id": "53ab5192",
   "metadata": {
    "id": "X64_htG_mi5Z"
   },
   "outputs": [],
   "source": [
    "predicted_class = y_train[indx_distances]"
   ]
  },
  {
   "cell_type": "markdown",
   "id": "1de6fd17",
   "metadata": {
    "id": "HZqhmsOomi5a"
   },
   "source": [
    "И посмотрим где класс предсказан правильно, а где нет"
   ]
  },
  {
   "cell_type": "code",
   "execution_count": null,
   "id": "0c641fad",
   "metadata": {
    "colab": {
     "base_uri": "https://localhost:8080/"
    },
    "id": "WJbGYNOcmi5a",
    "outputId": "37658651-94ab-4870-e389-6d748b9bbb9c"
   },
   "outputs": [],
   "source": [
    "y_test == predicted_class"
   ]
  },
  {
   "cell_type": "markdown",
   "id": "6cbc52c7",
   "metadata": {
    "id": "-JLm-DI9mi5a"
   },
   "source": [
    "**Посчитайте точность (accuracy)**\n",
    "\n",
    "В питоне с булевыми значениями можно производить математические операции (True = 1, False = 0)"
   ]
  },
  {
   "cell_type": "code",
   "execution_count": null,
   "id": "801a7ab6",
   "metadata": {
    "colab": {
     "base_uri": "https://localhost:8080/"
    },
    "id": "UQAj-U6Tmi5a",
    "outputId": "baa4f677-a5ee-4314-81c6-e6f0f1de592d"
   },
   "outputs": [],
   "source": [
    "accuracy = # Enter your code here\n",
    "print(f'Accuracy = {accuracy * 100:.1f}%')"
   ]
  },
  {
   "cell_type": "markdown",
   "id": "fd51bbb3",
   "metadata": {
    "id": "EXK0fTfpmi5a"
   },
   "source": [
    "Повторите все этапы классификации, однако в этот раз стандартизируйте данные перед этим."
   ]
  },
  {
   "cell_type": "code",
   "execution_count": null,
   "id": "3eb4a4bf",
   "metadata": {
    "id": "MiAqVw5smi5a"
   },
   "outputs": [],
   "source": [
    "def standartize(data):\n",
    "    mean = # Enter your code here\n",
    "    std = # Enter your code here\n",
    "    st_data = # Enter your code here\n",
    "    return st_data\n",
    "x_train_st, x_test_st = # Enter your code here"
   ]
  },
  {
   "cell_type": "code",
   "execution_count": null,
   "id": "48cdbccd",
   "metadata": {
    "colab": {
     "base_uri": "https://localhost:8080/"
    },
    "id": "Frm0tSycmi5b",
    "outputId": "78458752-9051-49f5-dd75-30ab196ce1ab"
   },
   "outputs": [],
   "source": [
    "indx_distances_st =np.array([np.argmin(dist) for dist in distances_st])\n",
    "min_distances = y_train[indx_distances_st]\n",
    "predicted_class = min_distances#y_train_st[indx_distances_st]\n",
    "accuracy =  (len(y_test) - np.sum(np.abs(predicted_class-y_test)))/len(y_test)\n",
    "print(f'Accuracy = {accuracy * 100:.1f}%')"
   ]
  },
  {
   "cell_type": "markdown",
   "id": "ce837708",
   "metadata": {
    "id": "HBt8mbfRmi5b"
   },
   "source": [
    "### Формат результата"
   ]
  },
  {
   "cell_type": "markdown",
   "id": "628c5081",
   "metadata": {
    "id": "WExLMZKkmi5b"
   },
   "source": [
    "Получить точность (accuracy) больше 94%"
   ]
  },
  {
   "cell_type": "markdown",
   "id": "15875870",
   "metadata": {
    "id": "eQBJUQMmmi5b"
   },
   "source": [
    "### Задание 2. Nearest Neighbors для картинок"
   ]
  },
  {
   "cell_type": "markdown",
   "id": "0c928a10",
   "metadata": {
    "id": "9U3hcWItmi5b"
   },
   "source": [
    "Загрузим датасет с помощью функций torchvision, пока можно не очень вдумываться как это работает, дальше в курсе мы познакомимся с PyTorch значительно ближе"
   ]
  },
  {
   "cell_type": "code",
   "execution_count": null,
   "id": "6148da85",
   "metadata": {
    "colab": {
     "base_uri": "https://localhost:8080/",
     "height": 85,
     "referenced_widgets": [
      "e6b0be3e71464efa9aec829e5e56ea5d",
      "318e7b731549486986eef709549df02a",
      "3c090007c5874b00b15924bc8956fa45",
      "60e409337aec4f8c8952e4ef00680dc4",
      "a2381a04bb084931a0fe650909976fec",
      "889cfa484dc94ee1ac1a68e816e80cf9",
      "fcfdad56af56443a9024ca108311f424",
      "0e8833df27bf47518176bd192cce8f1c",
      "dc963a6c24c14368aa5cd43a019cb864",
      "41e642f06c5e4b4c8915a33b0f708747",
      "ad63cb2e4e374796ab64f9176c1d7375"
     ]
    },
    "id": "FgRG3ZZfmi5b",
    "outputId": "3e5189a8-b49e-4d06-dbed-7d303e8ca759"
   },
   "outputs": [],
   "source": [
    "from torchvision import datasets\n",
    "import numpy as np\n",
    "\n",
    "dataset = datasets.CIFAR10(\"content\", train=True, download=True)\n",
    "\n",
    "np.random.seed(42)\n",
    "data, _, labels, _ = train_test_split(dataset.data / 255,  # Normalize\n",
    "                                      np.array(dataset.targets),\n",
    "                                      train_size=0.1, # get only fraction of the dataset\n",
    "                                      random_state=42,\n",
    "                                      stratify=dataset.targets)\n"
   ]
  },
  {
   "cell_type": "markdown",
   "id": "e43d73a7",
   "metadata": {
    "id": "KTZsMH0Kmi5c"
   },
   "source": [
    "Посмотрим что это за датасет такой"
   ]
  },
  {
   "cell_type": "code",
   "execution_count": null,
   "id": "137591a1",
   "metadata": {
    "colab": {
     "base_uri": "https://localhost:8080/"
    },
    "id": "7sFTnPFlmi5c",
    "outputId": "f1b21370-8f29-4960-ea73-8c784c403665"
   },
   "outputs": [],
   "source": [
    "data.shape"
   ]
  },
  {
   "cell_type": "markdown",
   "id": "9578b6ec",
   "metadata": {
    "id": "fmLlagRemi5c"
   },
   "source": [
    "CIFAR - 4х мерный массив (N, W, H, C). $N$ - количество картинок, $W$ - ширина картинки, $H$ - высота картинки, $C$ - количество каналов (RGB)."
   ]
  },
  {
   "cell_type": "markdown",
   "id": "4d8fdff7",
   "metadata": {
    "id": "ABIxOguami5c"
   },
   "source": [
    "Создайте subplots с 2мя строками и 2мя колонками и отобразите 4 любых картинки из `data`. \n",
    "Используйте `plt.imshow()`"
   ]
  },
  {
   "cell_type": "code",
   "execution_count": null,
   "id": "8af49e4a",
   "metadata": {
    "colab": {
     "base_uri": "https://localhost:8080/",
     "height": 268
    },
    "id": "aJSE5zw0mi5c",
    "outputId": "8a7bc691-4d11-4a7b-eaaa-8a899caa5f15"
   },
   "outputs": [],
   "source": [
    "import matplotlib.pyplot as plt\n",
    "\n",
    "fig, ax = plt.subplots(nrows=2, ncols=2)\n",
    "\n",
    "ax[0, 0].imshow(data[0])# Your code here \n",
    "ax[0, 1].imshow(data[1])# Your code here \n",
    "ax[1, 0].imshow(data[2])# Your code here \n",
    "ax[1, 1].imshow(data[-1])# Your code here \n",
    "plt.show()"
   ]
  },
  {
   "cell_type": "markdown",
   "id": "41c1304a",
   "metadata": {
    "id": "YVvhBJwOmi5c"
   },
   "source": [
    "Разбейте датасет на тренировочный и тестовый наборы. Укажите аргументы `random_state=42`, `stratify=labels`"
   ]
  },
  {
   "cell_type": "code",
   "execution_count": null,
   "id": "18dddae9",
   "metadata": {
    "colab": {
     "base_uri": "https://localhost:8080/"
    },
    "id": "UbotcuP-mi5d",
    "outputId": "57502b10-a77b-4dca-a74b-7bc91ba1333a"
   },
   "outputs": [],
   "source": [
    "from sklearn.model_selection import train_test_split\n",
    "\n",
    "x_train, x_test, y_train, y_test = # Your code here \n",
    "\n",
    "print(\"x_train\", x_train.shape)\n",
    "print(\"x_test\", x_test.shape)"
   ]
  },
  {
   "cell_type": "markdown",
   "id": "23f3c919",
   "metadata": {
    "id": "5xYUl23Xmi5d"
   },
   "source": [
    "Возьмите первую картинку из тестового набора и найдите ее ближайшего соседа из тренировочного"
   ]
  },
  {
   "cell_type": "code",
   "execution_count": null,
   "id": "3dc4ec1e",
   "metadata": {
    "id": "B8r4ZnWjmi5d"
   },
   "outputs": [],
   "source": [
    "# Enter your code here"
   ]
  },
  {
   "cell_type": "markdown",
   "id": "305619bb",
   "metadata": {
    "id": "c0zEIlJsmi5d"
   },
   "source": [
    "**Отобразите эти картинки на subplots с ncols=2**"
   ]
  },
  {
   "cell_type": "code",
   "execution_count": null,
   "id": "ad55ae84",
   "metadata": {
    "colab": {
     "base_uri": "https://localhost:8080/",
     "height": 202
    },
    "id": "hbJNqC5Jmi5e",
    "outputId": "18c5bad8-07fe-4679-c74e-a74a290da83c"
   },
   "outputs": [],
   "source": [
    "fig, ax = plt.subplots(nrows=1, ncols=2)\n",
    "ax[0]# Your code here \n",
    "ax[1]# Your code here \n",
    "plt.show()"
   ]
  },
  {
   "cell_type": "markdown",
   "id": "e354b4d6",
   "metadata": {
    "id": "9Y3BMyAUmi5e"
   },
   "source": [
    "**Посмотрите какой класс предсказывается**"
   ]
  },
  {
   "cell_type": "code",
   "execution_count": null,
   "id": "dd13c470",
   "metadata": {
    "colab": {
     "base_uri": "https://localhost:8080/"
    },
    "id": "3pey3by3mi5e",
    "outputId": "46d37fd3-aeff-4085-ae73-a19161d6bea7"
   },
   "outputs": [],
   "source": [
    "class_pred = # Enter your code here"
   ]
  },
  {
   "cell_type": "markdown",
   "id": "3416bf44",
   "metadata": {
    "id": "vUbIbdJimi5e"
   },
   "source": [
    "Возьмите первую картинку из тестового набора и найдите K ее ближайших соседей (KNN) из тренировочного"
   ]
  },
  {
   "cell_type": "code",
   "execution_count": null,
   "id": "bdf6526e",
   "metadata": {
    "colab": {
     "base_uri": "https://localhost:8080/"
    },
    "id": "Hz0mCzWymi5e",
    "outputId": "6e3642eb-ced9-49a6-d619-36f19dc9c572"
   },
   "outputs": [],
   "source": [
    "k = 5\n",
    "indx = # Your code here "
   ]
  },
  {
   "cell_type": "markdown",
   "id": "3c97e22f",
   "metadata": {
    "id": "O6lu7twumi5e"
   },
   "source": [
    "Отобразите ближайших соседей в виде subplots"
   ]
  },
  {
   "cell_type": "code",
   "execution_count": null,
   "id": "f71e1e3f",
   "metadata": {
    "colab": {
     "base_uri": "https://localhost:8080/",
     "height": 109
    },
    "id": "7Opo7F4mmi5f",
    "outputId": "79644c06-2174-46b0-f898-e873248daf6a"
   },
   "outputs": [],
   "source": [
    "fig, ax = # Your code here \n",
    "# Enter your code here\n",
    "plt.show()"
   ]
  },
  {
   "cell_type": "markdown",
   "id": "31f9f071",
   "metadata": {
    "id": "0XnMPvxQmi5f"
   },
   "source": [
    "Посчитайте KNN для всего датасета"
   ]
  },
  {
   "cell_type": "markdown",
   "id": "8bff266a",
   "metadata": {
    "id": "cqyKzPV4mi5f"
   },
   "source": [
    "Чем больше данных - тем дольше процесс. Реализуйте функцию для расчета расстояний. Если вы используете `for loops` - сделайте к ним *progress bars* с помощью [tqdm](https://github.com/tqdm/tqdm)\n",
    "\n",
    "Примечание: если используете вложенные циклы используйте `tqdm` только на внешнем цикле. Иначе время работы существенно увеличится."
   ]
  },
  {
   "cell_type": "code",
   "execution_count": null,
   "id": "5fe076ff",
   "metadata": {
    "id": "asBaDkiymi5f"
   },
   "outputs": [],
   "source": [
    "from tqdm.notebook import tqdm"
   ]
  },
  {
   "cell_type": "code",
   "execution_count": null,
   "id": "b896b3ba",
   "metadata": {
    "colab": {
     "base_uri": "https://localhost:8080/",
     "height": 49,
     "referenced_widgets": [
      "066cd4707b8c493692e77198e21c27b2",
      "3f095437a4c94cd3874fad5dbab3ae55",
      "323ffa5c689f4761966448bbb331e33d",
      "ebef069e069e444e9060a1b5adbe0a32",
      "63a287ea4a9e4077ad36f8ac4b1a56d6",
      "041cab55a28448a3af36f4f82ddf82c1",
      "a9e55a021ea547018349333c6e50d764",
      "36a36d009dca4788afac936d84868c67",
      "df59022f47734640aca795f09d6e7ee6",
      "fc13a116c7cc4d39a9388f74417599d6",
      "bd0eb6a18c2340658f3fa8c5df13c0ea"
     ]
    },
    "id": "lLKghKYkmi5g",
    "outputId": "1308aa1e-5569-492d-aa25-d53c3d1e1b0a"
   },
   "outputs": [],
   "source": [
    "distances = # Enter your code here"
   ]
  },
  {
   "cell_type": "markdown",
   "id": "a2b80146",
   "metadata": {
    "id": "NpG0-Ct2mi5g"
   },
   "source": [
    "Теперь найдите k ближайших соседей и предскажите класс. [scipy.stats.mode](https://docs.scipy.org/doc/scipy/reference/generated/scipy.stats.mode.html)"
   ]
  },
  {
   "cell_type": "code",
   "execution_count": null,
   "id": "f6b700fa",
   "metadata": {
    "colab": {
     "base_uri": "https://localhost:8080/"
    },
    "id": "60yI7oq7mi5g",
    "outputId": "e717f0f3-76a2-4e73-8c14-e73bc6a3368f"
   },
   "outputs": [],
   "source": [
    "from scipy.stats import mode\n",
    "indxs = np.array([# Enter your code here])\n",
    "pred = mode(y_train[indxs], axis=1)[0].flatten()\n",
    "print('predicted class is',pred)\n",
    "def get_accuracy(distances, train_labels, test_labels, k):\n",
    "    indxs = # Enter your code here\n",
    "    pred = # Enter your code here\n",
    "    accuracy = # Enter your code here\n",
    "    return accuracy"
   ]
  },
  {
   "cell_type": "code",
   "execution_count": null,
   "id": "22aed749",
   "metadata": {
    "colab": {
     "base_uri": "https://localhost:8080/"
    },
    "id": "vAyMjcU3mi5g",
    "outputId": "115a4980-bacd-4ac5-980f-9aeba12380d9"
   },
   "outputs": [],
   "source": [
    "accuracy = get_accuracy(distances, y_train, y_test, k)\n",
    "print(f'Accuracy = {accuracy * 100:.0f}%')"
   ]
  },
  {
   "cell_type": "markdown",
   "id": "06147115",
   "metadata": {
    "id": "FQaXg_3Imi5g"
   },
   "source": [
    "**Посчитайте точность для k=1..100 и постройте график точности от k**"
   ]
  },
  {
   "cell_type": "code",
   "execution_count": null,
   "id": "ab010768",
   "metadata": {
    "id": "Fl0C1eybmi5g"
   },
   "outputs": [],
   "source": [
    "acc = []\n",
    "for k in range(1, 100):\n",
    "    acc.append(# Enter your code here)"
   ]
  },
  {
   "cell_type": "code",
   "execution_count": null,
   "id": "f73fc259",
   "metadata": {
    "colab": {
     "base_uri": "https://localhost:8080/",
     "height": 265
    },
    "id": "H8h3dg36mi5h",
    "outputId": "40c8feb7-b7f4-4136-aeef-fc0b5f50a196"
   },
   "outputs": [],
   "source": [
    "kk = np.arange(1,100)\n",
    "# Enter your code here"
   ]
  },
  {
   "cell_type": "markdown",
   "id": "f4e436f7",
   "metadata": {
    "id": "wkyWP8Wdmi5h"
   },
   "source": [
    "Поменяйте расстоянние L1 на L2 и сравните точность на всем датасете."
   ]
  },
  {
   "cell_type": "code",
   "execution_count": null,
   "id": "5de00ddc",
   "metadata": {
    "colab": {
     "base_uri": "https://localhost:8080/"
    },
    "id": "mEOJLaZcmi5h",
    "outputId": "1410e52b-003a-4733-b29a-7cf99cd966f7"
   },
   "outputs": [],
   "source": [
    "def distance_func_l2(a,b):\n",
    "    dist = # Enter your code here\n",
    "    return dist\n",
    "def compute_L2(train, test,distance_func_l2):\n",
    "    distances = # Enter your code here\n",
    "    return distances"
   ]
  },
  {
   "cell_type": "code",
   "execution_count": null,
   "id": "c4730218",
   "metadata": {
    "id": "gG50Gfl8mi5h"
   },
   "outputs": [],
   "source": [
    "acc_l2 = []\n",
    "for k in range(1, 100):\n",
    "    acc_l2.append(# Enter your code here)"
   ]
  },
  {
   "cell_type": "code",
   "execution_count": null,
   "id": "a1cad4cf",
   "metadata": {
    "colab": {
     "base_uri": "https://localhost:8080/",
     "height": 301
    },
    "id": "_IxSpRq4mi5i",
    "outputId": "8c393893-65f7-49a4-a2be-fd104281011d"
   },
   "outputs": [],
   "source": [
    "plt.plot(# Enter your code here)\n",
    "plt.plot(# Enter your code here)\n",
    "plt.legend()\n",
    "plt.show()\n",
    "max_k_l1 = np.argmax(acc)+1\n",
    "max_k_l2 = np.argmax(acc_l2)+1\n",
    "print('best k for l1 metric =',max_k_l1)\n",
    "print('best k for l2 metric =',max_k_l2)"
   ]
  },
  {
   "cell_type": "markdown",
   "id": "b2f28cb1",
   "metadata": {
    "id": "-igfRmjrmi5i"
   },
   "source": [
    "### Формат результата"
   ]
  },
  {
   "cell_type": "markdown",
   "id": "cd215f46",
   "metadata": {
    "id": "43m2WS6Fmi5i"
   },
   "source": [
    "* График сравнения точности для L1 и L2 при различных k.\n",
    "* Число k при котором достигается лучшая точность"
   ]
  },
  {
   "cell_type": "markdown",
   "id": "68dfa63d",
   "metadata": {
    "id": "ai1qhW2Xmi5i"
   },
   "source": [
    "Пример графика:\n",
    "\n",
    "<img src =\"https://edunet.kea.su/repo/EduNet-web_dependencies/Exercises/EX01/result_4_task.png\" width=\"300\">"
   ]
  },
  {
   "cell_type": "markdown",
   "id": "8f3f1bb6",
   "metadata": {
    "id": "9bICW4yvmi5i"
   },
   "source": [
    "### Задание 3 (EXTRA). Реализация kNN"
   ]
  },
  {
   "cell_type": "markdown",
   "id": "099941e0",
   "metadata": {
    "id": "cFhkngFCmi5i"
   },
   "source": [
    "Часто KNN реализуют в концепции Объектно-Ориентированного Программирования (ООП). Создайте класс kNN и реализуйте у него методы"
   ]
  },
  {
   "cell_type": "code",
   "execution_count": null,
   "id": "1952aa3d",
   "metadata": {
    "id": "dr1FGqpPmi5i"
   },
   "outputs": [],
   "source": [
    "class kNN:\n",
    "    def __init__(self, k, distance_func):\n",
    "        self.k = # Your code here \n",
    "        self.distance_func = # Your code here \n",
    "\n",
    "    def fit(self, x, y):\n",
    "        self.train_data = # Your code here \n",
    "        self.train_labels = # Your code here \n",
    "\n",
    "    def predict(self, x):\n",
    "        distances = self.compute_distances(x)\n",
    "        indexes = np.argsort(distances, axis=1)[:, :self.k]\n",
    "        labels_of_top_classes = self.train_labels[indexes]\n",
    "        predicted_class, _ = mode(labels_of_top_classes, axis=1)\n",
    "        return predicted_class.flatten()\n",
    "\n",
    "    def compute_distances(self, test): \n",
    "        distances = # Enter your code here\n",
    "        return distances"
   ]
  },
  {
   "cell_type": "code",
   "execution_count": null,
   "id": "c4ed13c8",
   "metadata": {
    "colab": {
     "base_uri": "https://localhost:8080/",
     "height": 85,
     "referenced_widgets": [
      "15afb3d2322d4c94afe9496bff8172a6",
      "8d14a4b7162a429e9fa22ec27399d028",
      "8721a14d4d3c4d4391478faa51e8a327",
      "43b8252ac79f4f5691c214b9a48c2b4c",
      "477adefa17f64ff990a9db7045ca75e5",
      "a83ac82c870d45d2aff429292d645ead",
      "614cbef3387241f79c10db912cc32bf6",
      "8e15d11dca944e0393f10fec5e270a3d",
      "86eaff9f57d74bfeb6835abeda9d43dc",
      "23dece46f36943d5871536a32fcc1c4b",
      "f741f51821d441ab84308e3a241b2443"
     ]
    },
    "id": "TQQgMS0fmi5j",
    "outputId": "1124c177-bda6-46d3-c768-9e824f71cf92"
   },
   "outputs": [],
   "source": [
    "%%time\n",
    "kNN_classifier = kNN(k=1, distance_func=compute_L1)\n",
    "kNN_classifier.fit(x=x_train, y=y_train)\n",
    "out = kNN_classifier.predict(x_test)"
   ]
  },
  {
   "cell_type": "code",
   "execution_count": null,
   "id": "79b7d1be",
   "metadata": {
    "colab": {
     "base_uri": "https://localhost:8080/"
    },
    "id": "A9gL2Aiumi5j",
    "outputId": "f92d8d1e-e1e1-498e-8491-e7dcc1fef756"
   },
   "outputs": [],
   "source": [
    "acur = np.mean(y_test == out)\n",
    "print(f'Accuracy = {acur * 100:.0f}%')"
   ]
  },
  {
   "cell_type": "markdown",
   "id": "ec4d2622",
   "metadata": {
    "id": "V68MQHU4mi5j"
   },
   "source": [
    "Сравните время работы вашей реализации и реализации из sklearn"
   ]
  },
  {
   "cell_type": "code",
   "execution_count": null,
   "id": "78468d41",
   "metadata": {
    "id": "Mh5XUyCZmi5j"
   },
   "outputs": [],
   "source": [
    "from sklearn.neighbors import KNeighborsClassifier"
   ]
  },
  {
   "cell_type": "code",
   "execution_count": null,
   "id": "64d0abee",
   "metadata": {
    "colab": {
     "base_uri": "https://localhost:8080/"
    },
    "id": "Bhw3B9fAmi5j",
    "outputId": "0fe6000b-8f74-4624-c88c-7cb6e8cf966a"
   },
   "outputs": [],
   "source": [
    "%%time\n",
    "neigh = KNeighborsClassifier(n_neighbors=1, # Enter your code here) \n",
    "                             # default metric is l2 = euclidean\n",
    "x_train_flatten = # Enter your code here\n",
    "x_test_flatten = # Enter your code here\n",
    "# fit KNN model\n",
    "# Enter your code here"
   ]
  },
  {
   "cell_type": "code",
   "execution_count": null,
   "id": "bd99c9bc",
   "metadata": {},
   "outputs": [],
   "source": [
    "# make prediction \n",
    "preds = # Enter your code here"
   ]
  },
  {
   "cell_type": "code",
   "execution_count": null,
   "id": "f5460e1b",
   "metadata": {},
   "outputs": [],
   "source": [
    "# compute accuracy\n",
    "accur = # Enter your code here\n",
    "print(f'Accuracy = {accur * 100:.0f}%')"
   ]
  },
  {
   "cell_type": "markdown",
   "id": "edbdb3b9",
   "metadata": {
    "id": "K-HutVV5mi5j"
   },
   "source": [
    "### Формат результата"
   ]
  },
  {
   "cell_type": "markdown",
   "id": "d18a6035",
   "metadata": {
    "id": "ud3um5Ogmi5j"
   },
   "source": [
    "Демонстрация времени работы вашей реализации и реализации из sklearn (с помощью %%time)"
   ]
  },
  {
   "cell_type": "markdown",
   "id": "02a74fea",
   "metadata": {},
   "source": [
    "## SVM"
   ]
  },
  {
   "cell_type": "markdown",
   "id": "56751603",
   "metadata": {},
   "source": [
    "### Задание 4. Классификация с помощью метода опорных векторов"
   ]
  },
  {
   "cell_type": "code",
   "execution_count": null,
   "id": "2f8a0c66",
   "metadata": {},
   "outputs": [],
   "source": [
    "import pandas as pd\n",
    "import numpy as np\n",
    "from sklearn.linear_model import LogisticRegression\n",
    "import seaborn as sns\n",
    "from sklearn.pipeline import make_pipeline\n",
    "from sklearn.preprocessing import StandardScaler\n",
    "from sklearn.model_selection import train_test_split\n",
    "from sklearn.svm import SVC"
   ]
  },
  {
   "cell_type": "markdown",
   "id": "0e6229fa",
   "metadata": {},
   "source": [
    "**Снова будем работать с данными датасета adult.csv**"
   ]
  },
  {
   "cell_type": "markdown",
   "id": "ce5224e9",
   "metadata": {},
   "source": [
    "- Загружаем данные"
   ]
  },
  {
   "cell_type": "code",
   "execution_count": null,
   "id": "0f55f26e",
   "metadata": {},
   "outputs": [],
   "source": [
    "df = pd.read_csv('adult.csv')"
   ]
  },
  {
   "cell_type": "markdown",
   "id": "5ac526d6",
   "metadata": {},
   "source": [
    "- Первичный анализ "
   ]
  },
  {
   "cell_type": "code",
   "execution_count": null,
   "id": "fe5ce90f",
   "metadata": {},
   "outputs": [],
   "source": [
    "# Enter your code here"
   ]
  },
  {
   "cell_type": "markdown",
   "id": "88221dc6",
   "metadata": {},
   "source": [
    "- Построение графиков"
   ]
  },
  {
   "cell_type": "code",
   "execution_count": null,
   "id": "4143d69c",
   "metadata": {},
   "outputs": [],
   "source": [
    "# Enter your code here"
   ]
  },
  {
   "cell_type": "markdown",
   "id": "35d24013",
   "metadata": {},
   "source": [
    "- Продобработка категориальных признаков"
   ]
  },
  {
   "cell_type": "code",
   "execution_count": null,
   "id": "4f34a731",
   "metadata": {},
   "outputs": [],
   "source": [
    "# целевая переменная (столбец income) снова является категориальной\n",
    "# переведем значения столбца в числа, оставив один столбец\n",
    "\n",
    "from sklearn.preprocessing import LabelEncoder\n",
    "le = LabelEncoder()\n",
    "# Enter your code here"
   ]
  },
  {
   "cell_type": "markdown",
   "id": "6b142fa6",
   "metadata": {},
   "source": [
    "- Разделим данные на обучающие и тестовы"
   ]
  },
  {
   "cell_type": "code",
   "execution_count": null,
   "id": "21bd4556",
   "metadata": {},
   "outputs": [],
   "source": [
    "X_train, X_test, y_train, y_test = train_test_split(X, y, test_size=0.2, random_state=42)"
   ]
  },
  {
   "cell_type": "markdown",
   "id": "547d7eed",
   "metadata": {},
   "source": [
    "- Обучите модели логиcтической регрессии и опорных векторов (SVC)"
   ]
  },
  {
   "cell_type": "code",
   "execution_count": null,
   "id": "4f3213fe",
   "metadata": {},
   "outputs": [],
   "source": [
    "SVM = # Enter your code here\n",
    "log_model = # Enter your code here\n",
    "# Enter your code here"
   ]
  },
  {
   "cell_type": "markdown",
   "id": "4d579d07",
   "metadata": {},
   "source": [
    "- Сделайте предикт обоими моделями на тесте и посмотрите качество обоих моделей"
   ]
  },
  {
   "cell_type": "code",
   "execution_count": null,
   "id": "ea2e2ae5",
   "metadata": {},
   "outputs": [],
   "source": [
    "pred_SVM = # Enter your code here\n",
    "pred_log = # Enter your code here\n",
    "acc_SVM = # Enter your code here\n",
    "acc_log = # Enter your code here"
   ]
  },
  {
   "cell_type": "markdown",
   "id": "e20ca56e",
   "metadata": {},
   "source": [
    "- Какая моджель лучше работает на этих данных?\n",
    "- Почему и как это можно объяснить?\n",
    "- Сделайте предположения\\выводы"
   ]
  },
  {
   "cell_type": "code",
   "execution_count": null,
   "id": "626e6b34",
   "metadata": {},
   "outputs": [],
   "source": [
    "# Анализ и вывод"
   ]
  },
  {
   "cell_type": "markdown",
   "id": "f5b45de6",
   "metadata": {},
   "source": [
    "### Задание 5. SVM kernel trick "
   ]
  },
  {
   "cell_type": "markdown",
   "id": "1131a5c7",
   "metadata": {},
   "source": [
    "Данные не всегда могут быть хорошо разделены (гипер)плоскостью. Например, рассмотрим следующее: у нас есть данные по дозировке лекарства и 2 класса — пациенты, которые поправились, и те, которым лучше не стало."
   ]
  },
  {
   "cell_type": "code",
   "execution_count": null,
   "id": "2d58f5a0",
   "metadata": {},
   "outputs": [],
   "source": [
    "from matplotlib import pyplot as plt\n",
    "import seaborn as sns\n",
    "import numpy as np\n",
    "\n",
    "\n",
    "def generate_patients_data(total_len=40):\n",
    "    x = np.random.uniform(0, 50, total_len)\n",
    "    y = np.zeros_like(x)\n",
    "    y[(x > 15) & (x < 35)] = 1\n",
    "    return x, y\n",
    "\n",
    "\n",
    "def plot_data(x, y, total_len=40, s=50):\n",
    "    plt.figure(figsize=(5, 3))\n",
    "    ax = sns.scatterplot(x=x, y=np.zeros(len(x)), hue=y, s=s)\n",
    "    handles, labels = ax.get_legend_handles_labels()\n",
    "    ax.legend(handles, [\"Recover\", \"Sick\"])\n",
    "    ax.set(xlabel=\"dose, mg\")\n",
    "    return ax\n",
    "\n",
    "\n",
    "total_len = 40\n",
    "x, y = generate_patients_data(total_len=total_len)\n",
    "ax = plot_data(x, y, total_len=total_len)\n",
    "plt.show()"
   ]
  },
  {
   "cell_type": "markdown",
   "id": "1db615b1",
   "metadata": {},
   "source": [
    "Соответственно, мы не можем найти такое пороговое значение, которое будет разделять наши классы на больных и здоровых, а, следовательно, и Support Vector Classifier работать тоже не будет.  Для начала давайте преобразуем наши данные таким образом, чтобы они стали 2-хмерными. В качестве значений по оси Y будем использовать дозу, возведенную в квадрат (**доза**$^2$)."
   ]
  },
  {
   "cell_type": "code",
   "execution_count": null,
   "id": "5d989587",
   "metadata": {},
   "outputs": [],
   "source": [
    "def plot_data(x, y, total_len=40, s=50):\n",
    "    plt.figure(figsize=(5, 3))\n",
    "    ax = sns.scatterplot(x=x[0, :], y=x[1, :], hue=y, s=s)\n",
    "    handles, labels = ax.get_legend_handles_labels()\n",
    "    ax.legend(handles, [\"Recover\", \"Sick\"])\n",
    "    ax.set(xlabel=\"Dose, mg\")\n",
    "    ax.set(ylabel=\"Dose$^2$\")\n",
    "    return ax\n",
    "\n",
    "\n",
    "total_len = 40\n",
    "x_1, y = generate_patients_data(total_len=total_len)\n",
    "x_2 = # Enter your code here\n",
    "# Enter your code here\n",
    "x = np.vstack[x1,x2]\n",
    "plot_data(# Enter your code here)\n",
    "plt.show()"
   ]
  },
  {
   "cell_type": "markdown",
   "id": "bdb3a775",
   "metadata": {},
   "source": [
    "Теперь мы можем вновь использовать Support Vector Classifier для классификации"
   ]
  },
  {
   "cell_type": "code",
   "execution_count": null,
   "id": "b3fc3aed",
   "metadata": {},
   "outputs": [],
   "source": [
    "SVC = # Enter your code here\n",
    "# fit the model on raw and on squared data\n",
    "pred_lin = # Enter your code here\n",
    "pre_squarred = # Enter your code here"
   ]
  },
  {
   "cell_type": "markdown",
   "id": "77375926",
   "metadata": {},
   "source": [
    " - Сравните качество моделей на сырых данных, и линейно разделимыхъ после квадратичного преобразования"
   ]
  },
  {
   "cell_type": "code",
   "execution_count": null,
   "id": "f3717451",
   "metadata": {},
   "outputs": [],
   "source": [
    "acc_lin = # Enter your code here\n",
    "acc_squarred = # Enter your code here"
   ]
  },
  {
   "cell_type": "markdown",
   "id": "bc3e137f",
   "metadata": {},
   "source": [
    "Но тут возникает резонный вопрос: почему мы решили возвести в квадрат? Почему не в куб? Или, наоборот, не извлечь корень? Как нам решить, какое преобразование использовать?\n",
    "\n",
    "И у нас есть **вторая проблема** — а если перейти надо в пространство очень большой размерности? В этом случае наши данные очень сильно увеличатся в размере.\n",
    "\n",
    "Комбинация двух проблем дает нам **много сложности**: надо перебирать большое число возможных пространств большей размерности\n"
   ]
  },
  {
   "cell_type": "markdown",
   "id": "d31015d3",
   "metadata": {},
   "source": [
    "Однако основная фишка Support Vector Machine состоит в том, что внутри он работает на скалярных произведениях. И можно эти скалярные произведения считать, **не переходя в пространство большей размерности**\n",
    "\n",
    "Для этого SVM использует **Kernel Function**.\n",
    "\n",
    "Kernel Function может, например, быть полиномом (**Polynomial Kernel Function**), который имеет параметр $d$ — сколько размерностей выбрать.\n"
   ]
  },
  {
   "cell_type": "markdown",
   "id": "892ed000",
   "metadata": {},
   "source": [
    "<img src=\"https://edunet.kea.su/repo/EduNet-content/L02/out/svm_kernel_function.png\" width=\"700\">\n"
   ]
  },
  {
   "cell_type": "markdown",
   "id": "75ea62f0",
   "metadata": {},
   "source": [
    "- инициализируйте модель SVM с параметром kernel = rbf и обучите ее на сырых, линейно неразделимых данных (x1, y):"
   ]
  },
  {
   "cell_type": "code",
   "execution_count": null,
   "id": "f57ef0de",
   "metadata": {},
   "outputs": [],
   "source": [
    "SVM_kernel = # Enter your code here\n",
    "# fit the model\n",
    "pred_rbf = # Enter your code here\n",
    "acc_rbf = # Enter your code here"
   ]
  },
  {
   "cell_type": "markdown",
   "id": "6c196685",
   "metadata": {},
   "source": [
    "- Напишите ыводы о важности параметра kernel"
   ]
  }
 ],
 "metadata": {
  "kernelspec": {
   "display_name": "Python 3 (ipykernel)",
   "language": "python",
   "name": "python3"
  },
  "language_info": {
   "codemirror_mode": {
    "name": "ipython",
    "version": 3
   },
   "file_extension": ".py",
   "mimetype": "text/x-python",
   "name": "python",
   "nbconvert_exporter": "python",
   "pygments_lexer": "ipython3",
   "version": "3.10.9"
  }
 },
 "nbformat": 4,
 "nbformat_minor": 5
}
