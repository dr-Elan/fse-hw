{
 "cells": [
  {
   "cell_type": "markdown",
   "id": "6d9a1cca",
   "metadata": {},
   "source": [
    "# HW_4 CLUSTERIZATION"
   ]
  },
  {
   "cell_type": "code",
   "execution_count": null,
   "id": "49a7a433",
   "metadata": {},
   "outputs": [],
   "source": [
    "from sklearn.cluster import KMeans, AgglomerativeClustering, DBSCAN, AffinityPropagation\n",
    "from sklearn.metrics import adjusted_rand_score, silhouette_score\n",
    "from sklearn.preprocessing import StandardScaler\n",
    "from sklearn.metrics import adjusted_rand_score, silhouette_score\n",
    "from skimage import data, img_as_float\n",
    "from skimage.metrics import structural_similarity as ssim\n",
    "from skimage.metrics import mean_squared_error\n",
    "import io\n",
    "import numpy as np\n",
    "import matplotlib.pyplot as plt\n",
    "\n",
    "from skimage import data, img_as_float\n",
    "from skimage.metrics import structural_similarity as ssim\n",
    "from skimage.metrics import mean_squared_error\n",
    "\n",
    "from time import time\n",
    "\n",
    "import matplotlib.pyplot as plt\n",
    "import numpy as np\n",
    "\n",
    "from sklearn.cluster import KMeans\n",
    "from sklearn.datasets import load_sample_image\n",
    "from sklearn.metrics import pairwise_distances_argmin\n",
    "from sklearn.utils import shuffle"
   ]
  },
  {
   "cell_type": "code",
   "execution_count": null,
   "id": "7dc99a7e",
   "metadata": {},
   "outputs": [],
   "source": [
    "import numpy as np\n",
    "import matplotlib.pyplot as plt\n",
    "import cv2\n",
    "import skimage\n",
    "def draw_picture(image, title, bgr=False):\n",
    "    b, g, r = cv2.split(image) # по умолчанию cv2 почему-то отдает цвета в порядке BGR вместо RGB\n",
    "    new_image = cv2.merge([r, g, b])\n",
    "    plt.figure(figsize=(7, 5))\n",
    "    plt.axis('off')\n",
    "    plt.imshow(new_image)\n",
    "    plt.title(title)\n",
    "    plt.show()"
   ]
  },
  {
   "cell_type": "code",
   "execution_count": null,
   "id": "b5af89c1",
   "metadata": {},
   "outputs": [],
   "source": [
    "import warnings\n",
    "warnings.filterwarnings('ignore')"
   ]
  },
  {
   "cell_type": "code",
   "execution_count": null,
   "id": "4c2469f6",
   "metadata": {},
   "outputs": [],
   "source": [
    "def recreate_image(codebook, labels, w, h):\n",
    "    \"\"\"Recreate the (compressed) image from the code book & labels\"\"\"\n",
    "    return codebook[labels].reshape(w, h, -1)"
   ]
  },
  {
   "cell_type": "code",
   "execution_count": null,
   "id": "f11d6ce0",
   "metadata": {},
   "outputs": [],
   "source": [
    "klumba = cv2.imread('Klumba.jpg')"
   ]
  },
  {
   "cell_type": "code",
   "execution_count": null,
   "id": "5c692438",
   "metadata": {},
   "outputs": [],
   "source": [
    "draw_picture(klumba, 'my pic',bgr=False)"
   ]
  },
  {
   "cell_type": "markdown",
   "id": "b0801092",
   "metadata": {},
   "source": [
    "### 1. Загрузите картинку и приведите ее к квадратной форме и размеру 128*128: "
   ]
  },
  {
   "cell_type": "code",
   "execution_count": null,
   "id": "56ed4d10",
   "metadata": {},
   "outputs": [],
   "source": [
    "klumba_resized = # your code here\n",
    "draw_picture(klumba_resized, 'my pic_resized',bgr=False)"
   ]
  },
  {
   "cell_type": "markdown",
   "id": "e8a42cdd",
   "metadata": {},
   "source": [
    "### 2. Реализуйте три модели класстеризации: KMeans, DBSCAn, AgglomerativeClustering"
   ]
  },
  {
   "cell_type": "markdown",
   "id": "e6027c45",
   "metadata": {},
   "source": [
    "#### 2a. KMeans"
   ]
  },
  {
   "cell_type": "code",
   "execution_count": null,
   "id": "fc7ce51f",
   "metadata": {},
   "outputs": [],
   "source": [
    "# Load Image and transform to a 2D numpy array.\n",
    "w, h, d = # your code here\n",
    "assert d == 3"
   ]
  },
  {
   "cell_type": "markdown",
   "id": "8466e2bb",
   "metadata": {},
   "source": [
    "- Вытяните картинку в трехмерный вектор:"
   ]
  },
  {
   "cell_type": "code",
   "execution_count": null,
   "id": "4e2b27c4",
   "metadata": {},
   "outputs": [],
   "source": [
    "X = # your code here\n",
    "X.shape"
   ]
  },
  {
   "cell_type": "markdown",
   "id": "6e345069",
   "metadata": {},
   "source": [
    "- к вектору трех каналов примените модель KMeans с разным числом кластеров (2,5,10 и 20):"
   ]
  },
  {
   "cell_type": "markdown",
   "id": "635a9f4c",
   "metadata": {},
   "source": [
    "- дополнительно в цикле сохраняйте значения инерции класстеров, а также structure similarity index (ssim)"
   ]
  },
  {
   "cell_type": "code",
   "execution_count": null,
   "id": "94e6f02f",
   "metadata": {},
   "outputs": [],
   "source": [
    "n_colors = 64\n",
    "fig, axes = plt.subplots(1, 4, figsize=(15, 4))\n",
    "k_inertia = []\n",
    "k_img = []\n",
    "K = [# your code here]\n",
    "for ax, k in zip(axes,K):\n",
    "    clf_kmeans = KMeans(n_clusters=k)\n",
    "    w, h, d = # your code here\n",
    "    # fit_predict\n",
    "    clusters_kmeans = # your code here\n",
    "    k_inertia.append(# your code here)\n",
    "    w, h, d = original_shape = tuple(klumba.shape)\n",
    "    ssim_const= # your code here\n",
    "    ax.set_xlabel(f'SSIM: {ssim_const:.2f}')\n",
    "    ax.imshow((recreate_image(clf_kmeans.cluster_centers_, clusters_kmeans, w, h)*255).astype(np.uint8))\n"
   ]
  },
  {
   "cell_type": "markdown",
   "id": "ed2928de",
   "metadata": {},
   "source": [
    "- Визализируйте полученные кластеры при разном числе к:"
   ]
  },
  {
   "cell_type": "code",
   "execution_count": null,
   "id": "be77f9e0",
   "metadata": {},
   "outputs": [],
   "source": [
    "plt.plot(# your code here)"
   ]
  },
  {
   "cell_type": "markdown",
   "id": "42f934c4",
   "metadata": {},
   "source": [
    "#### 2b DBSCAN"
   ]
  },
  {
   "cell_type": "markdown",
   "id": "4852f742",
   "metadata": {},
   "source": [
    "- Вытяните картинку в трехмерный вектор:"
   ]
  },
  {
   "cell_type": "code",
   "execution_count": null,
   "id": "dabbc059",
   "metadata": {},
   "outputs": [],
   "source": [
    "w, h, d = # your code here\n",
    "shuffled_klumba = # your code here"
   ]
  },
  {
   "cell_type": "markdown",
   "id": "3ba123e5",
   "metadata": {},
   "source": [
    "-  Примените DBSCAN к трехмерному вектору изображения"
   ]
  },
  {
   "cell_type": "markdown",
   "id": "dd823cbc",
   "metadata": {},
   "source": [
    "- дополнительно посчитайте structure similarity index (ssim)"
   ]
  },
  {
   "cell_type": "code",
   "execution_count": null,
   "id": "f9964243",
   "metadata": {},
   "outputs": [],
   "source": [
    "from sklearn.cluster import DBSCAN\n",
    "DBSCAN = # your code here\n",
    "# fit predict DBSCAN\n",
    "labels = # your code here\n",
    "new_klumba_of_dbscan = # your code here\n",
    "\n",
    "klustering_image = (recreate_image(new_klumba_of_dbscan, labels, w, h)*255).astype(np.uint8)\n",
    "ssim_const = # your code here\n",
    "\n"
   ]
  },
  {
   "cell_type": "markdown",
   "id": "a27f2645",
   "metadata": {},
   "source": [
    "- Визализируйте полученные кластеры при после прменнеия DBSCAN:"
   ]
  },
  {
   "cell_type": "code",
   "execution_count": null,
   "id": "8c917cac",
   "metadata": {},
   "outputs": [],
   "source": [
    "plt.imshow(klustering_image)\n",
    "plt.title(f'количество кластеров равно:{len(np.unique(clustering.labels_))}')\n",
    "\n",
    "plt.xlabel(f'SSIM: {ssim_const:.2f}')\n",
    "plt.show()"
   ]
  },
  {
   "cell_type": "markdown",
   "id": "b5120306",
   "metadata": {},
   "source": [
    "#### 2c AgglomerativeClustering"
   ]
  },
  {
   "cell_type": "code",
   "execution_count": null,
   "id": "5731da3d",
   "metadata": {},
   "outputs": [],
   "source": [
    "w, h, d = # your code here\n",
    "shuffled_klumba = # your code here"
   ]
  },
  {
   "cell_type": "markdown",
   "id": "a49c7ca0",
   "metadata": {},
   "source": [
    "- к вектору трех каналов (ыргаадув_лдгьиф) примените AgglomerativeClustering с разным числом кластеров (2,5,10 и 20):"
   ]
  },
  {
   "cell_type": "markdown",
   "id": "ece82a18",
   "metadata": {},
   "source": [
    "- дополнительно в цикле сохраняйте structure similarity index (ssim)"
   ]
  },
  {
   "cell_type": "markdown",
   "id": "c637cf6a",
   "metadata": {},
   "source": [
    "- Визализируйте полученные кластеры"
   ]
  },
  {
   "cell_type": "code",
   "execution_count": null,
   "id": "0e69da3d",
   "metadata": {},
   "outputs": [],
   "source": [
    "fig, axes = plt.subplots(1, 4, figsize=(15, 2))\n",
    "K = [# your code here]\n",
    "aggl_scan = []\n",
    "for ax, k in zip(axes,K):\n",
    "    clf_aggclus = AgglomerativeClustering(n_clusters=k)\n",
    "    #fit_predict the model\n",
    "    labels = # your code here\n",
    "    new_klumba_of_aggl = # your code here\n",
    "    klustering_image = (recreate_image(new_klumba_of_aggl, labels, w, h)*255).astype(np.uint8)\n",
    "    ssim_const = # your code here\n",
    "    ax.set_xlabel(f'SSIM: {ssim_const:.2f}')\n",
    "    ax.imshow(klustering_image)"
   ]
  },
  {
   "cell_type": "markdown",
   "id": "b99908e5",
   "metadata": {},
   "source": [
    "### 3. Какой из трех алгоритмов кластреизации работает лучше на данной картинке? Почему?"
   ]
  },
  {
   "cell_type": "markdown",
   "id": "7130c212",
   "metadata": {},
   "source": [
    "- Сделайте предполежения и выводы"
   ]
  },
  {
   "cell_type": "code",
   "execution_count": 1,
   "id": "d912b70f",
   "metadata": {},
   "outputs": [],
   "source": [
    "# Выводы и суждения..."
   ]
  },
  {
   "cell_type": "markdown",
   "id": "b4e11d78",
   "metadata": {
    "id": "kPCIk2PoXLwO"
   },
   "source": [
    "## Методы понижения размерности"
   ]
  },
  {
   "cell_type": "markdown",
   "id": "020d0fe4",
   "metadata": {},
   "source": [
    "\n",
    "### 4. Примените методы понижения размерности: PCA, t-SNE и UMAP к изображениям клеток крови из датасета BloodMNIST. \n",
    "\n",
    "Отобразите проекцию данных на двумерное пространство, так как это допускает наиболее простую визуализацию полученного результата (воспользуйтесь [`sns.scatterplot`](https://seaborn.pydata.org/generated/seaborn.scatterplot.html)).  Какой метод позволяет лучше разделить данные в пространстве? Опишите ваши наблюдения.\n",
    "\n",
    "Произведем загрузку данных:"
   ]
  },
  {
   "cell_type": "code",
   "execution_count": 2,
   "id": "e44fcf18",
   "metadata": {},
   "outputs": [
    {
     "name": "stdout",
     "output_type": "stream",
     "text": [
      "Requirement already satisfied: medmnist in c:\\users\\nikita.belyakov\\anaconda3\\lib\\site-packages (2.2.3)\n",
      "Requirement already satisfied: torchvision in c:\\users\\nikita.belyakov\\anaconda3\\lib\\site-packages (from medmnist) (0.15.2)\n",
      "Requirement already satisfied: tqdm in c:\\users\\nikita.belyakov\\anaconda3\\lib\\site-packages (from medmnist) (4.64.1)\n",
      "Requirement already satisfied: torch in c:\\users\\nikita.belyakov\\anaconda3\\lib\\site-packages (from medmnist) (2.0.1)\n",
      "Requirement already satisfied: numpy in c:\\users\\nikita.belyakov\\anaconda3\\lib\\site-packages (from medmnist) (1.23.5)\n",
      "Requirement already satisfied: Pillow in c:\\users\\nikita.belyakov\\anaconda3\\lib\\site-packages (from medmnist) (9.4.0)\n",
      "Requirement already satisfied: scikit-image in c:\\users\\nikita.belyakov\\anaconda3\\lib\\site-packages (from medmnist) (0.19.3)\n",
      "Requirement already satisfied: pandas in c:\\users\\nikita.belyakov\\anaconda3\\lib\\site-packages (from medmnist) (1.5.3)\n",
      "Requirement already satisfied: fire in c:\\users\\nikita.belyakov\\anaconda3\\lib\\site-packages (from medmnist) (0.5.0)\n",
      "Requirement already satisfied: scikit-learn in c:\\users\\nikita.belyakov\\anaconda3\\lib\\site-packages (from medmnist) (1.2.1)\n",
      "Requirement already satisfied: six in c:\\users\\nikita.belyakov\\anaconda3\\lib\\site-packages (from fire->medmnist) (1.16.0)\n",
      "Requirement already satisfied: termcolor in c:\\users\\nikita.belyakov\\anaconda3\\lib\\site-packages (from fire->medmnist) (2.3.0)\n",
      "Requirement already satisfied: pytz>=2020.1 in c:\\users\\nikita.belyakov\\anaconda3\\lib\\site-packages (from pandas->medmnist) (2022.7)\n",
      "Requirement already satisfied: python-dateutil>=2.8.1 in c:\\users\\nikita.belyakov\\anaconda3\\lib\\site-packages (from pandas->medmnist) (2.8.2)\n",
      "Requirement already satisfied: scipy>=1.4.1 in c:\\users\\nikita.belyakov\\anaconda3\\lib\\site-packages (from scikit-image->medmnist) (1.10.0)\n",
      "Requirement already satisfied: PyWavelets>=1.1.1 in c:\\users\\nikita.belyakov\\anaconda3\\lib\\site-packages (from scikit-image->medmnist) (1.4.1)\n",
      "Requirement already satisfied: tifffile>=2019.7.26 in c:\\users\\nikita.belyakov\\anaconda3\\lib\\site-packages (from scikit-image->medmnist) (2021.7.2)\n",
      "Requirement already satisfied: packaging>=20.0 in c:\\users\\nikita.belyakov\\anaconda3\\lib\\site-packages (from scikit-image->medmnist) (22.0)\n",
      "Requirement already satisfied: imageio>=2.4.1 in c:\\users\\nikita.belyakov\\anaconda3\\lib\\site-packages (from scikit-image->medmnist) (2.26.0)\n",
      "Requirement already satisfied: networkx>=2.2 in c:\\users\\nikita.belyakov\\anaconda3\\lib\\site-packages (from scikit-image->medmnist) (2.8.4)\n",
      "Requirement already satisfied: threadpoolctl>=2.0.0 in c:\\users\\nikita.belyakov\\anaconda3\\lib\\site-packages (from scikit-learn->medmnist) (2.2.0)\n",
      "Requirement already satisfied: joblib>=1.1.1 in c:\\users\\nikita.belyakov\\anaconda3\\lib\\site-packages (from scikit-learn->medmnist) (1.1.1)\n",
      "Requirement already satisfied: filelock in c:\\users\\nikita.belyakov\\anaconda3\\lib\\site-packages (from torch->medmnist) (3.9.0)\n",
      "Requirement already satisfied: typing-extensions in c:\\users\\nikita.belyakov\\anaconda3\\lib\\site-packages (from torch->medmnist) (4.4.0)\n",
      "Requirement already satisfied: sympy in c:\\users\\nikita.belyakov\\anaconda3\\lib\\site-packages (from torch->medmnist) (1.11.1)\n",
      "Requirement already satisfied: jinja2 in c:\\users\\nikita.belyakov\\anaconda3\\lib\\site-packages (from torch->medmnist) (3.1.2)\n",
      "Requirement already satisfied: requests in c:\\users\\nikita.belyakov\\anaconda3\\lib\\site-packages (from torchvision->medmnist) (2.28.1)\n",
      "Requirement already satisfied: colorama in c:\\users\\nikita.belyakov\\anaconda3\\lib\\site-packages (from tqdm->medmnist) (0.4.6)\n",
      "Requirement already satisfied: MarkupSafe>=2.0 in c:\\users\\nikita.belyakov\\anaconda3\\lib\\site-packages (from jinja2->torch->medmnist) (2.1.1)\n",
      "Requirement already satisfied: certifi>=2017.4.17 in c:\\users\\nikita.belyakov\\anaconda3\\lib\\site-packages (from requests->torchvision->medmnist) (2023.5.7)\n",
      "Requirement already satisfied: idna<4,>=2.5 in c:\\users\\nikita.belyakov\\anaconda3\\lib\\site-packages (from requests->torchvision->medmnist) (3.4)\n",
      "Requirement already satisfied: urllib3<1.27,>=1.21.1 in c:\\users\\nikita.belyakov\\anaconda3\\lib\\site-packages (from requests->torchvision->medmnist) (1.26.14)\n",
      "Requirement already satisfied: charset-normalizer<3,>=2 in c:\\users\\nikita.belyakov\\anaconda3\\lib\\site-packages (from requests->torchvision->medmnist) (2.0.4)\n",
      "Requirement already satisfied: mpmath>=0.19 in c:\\users\\nikita.belyakov\\anaconda3\\lib\\site-packages (from sympy->torch->medmnist) (1.2.1)\n"
     ]
    }
   ],
   "source": [
    "!pip install medmnist"
   ]
  },
  {
   "cell_type": "code",
   "execution_count": 6,
   "id": "baf08b35",
   "metadata": {
    "id": "nAxarh1DXLwP"
   },
   "outputs": [
    {
     "name": "stdout",
     "output_type": "stream",
     "text": [
      "Using downloaded and verified file: C:\\Users\\nikita.belyakov\\.medmnist\\bloodmnist.npz\n",
      "Dataset BloodMNIST (bloodmnist)\n",
      "    Number of datapoints: 11959\n",
      "    Root location: C:\\Users\\nikita.belyakov\\.medmnist\n",
      "    Split: train\n",
      "    Task: multi-class\n",
      "    Number of channels: 3\n",
      "    Meaning of labels: {'0': 'basophil', '1': 'eosinophil', '2': 'erythroblast', '3': 'immature granulocytes(myelocytes, metamyelocytes and promyelocytes)', '4': 'lymphocyte', '5': 'monocyte', '6': 'neutrophil', '7': 'platelet'}\n",
      "    Number of samples: {'train': 11959, 'val': 1712, 'test': 3421}\n",
      "    Description: The BloodMNIST is based on a dataset of individual normal cells, captured from individuals without infection, hematologic or oncologic disease and free of any pharmacologic treatment at the moment of blood collection. It contains a total of 17,092 images and is organized into 8 classes. We split the source dataset with a ratio of 7:1:2 into training, validation and test set. The source images with resolution 3×360×363 pixels are center-cropped into 3×200×200, and then resized into 3×28×28.\n",
      "    License: CC BY 4.0\n"
     ]
    }
   ],
   "source": [
    "import medmnist\n",
    "from medmnist import INFO, Evaluator\n",
    "import dataset_without_pytorch\n",
    "import pandas as pd\n",
    "from dataset_without_pytorch import get_loader\n",
    "data_flag = 'bloodmnist'\n",
    "download = True\n",
    "\n",
    "info = INFO[data_flag]\n",
    "task = info['task']\n",
    "n_channels = info['n_channels']\n",
    "n_classes = len(info['label'])\n",
    "\n",
    "DataClass = getattr(dataset_without_pytorch, info['python_class'])\n",
    "\n",
    "# load the data\n",
    "bloodmnist = DataClass(split='train', download=download)\n",
    "print(bloodmnist)"
   ]
  },
  {
   "cell_type": "markdown",
   "id": "a36357ef",
   "metadata": {
    "id": "8LAfDTBgXLwP"
   },
   "source": [
    "Доступ к данным идет посредством обращения к ключу `bloodmnist.imgs`, доступ к разметке классов через `bloodmnist.labels`"
   ]
  },
  {
   "cell_type": "code",
   "execution_count": 7,
   "id": "bb211cc1",
   "metadata": {
    "id": "KHGNIFDvXLwQ"
   },
   "outputs": [
    {
     "name": "stderr",
     "output_type": "stream",
     "text": [
      "C:\\Users\\nikita.belyakov\\anaconda3\\lib\\site-packages\\medmnist\\utils.py:31: FutureWarning: `multichannel` is a deprecated argument name for `montage`. It will be removed in version 1.0. Please use `channel_axis` instead.\n",
      "  montage_arr = skimage_montage(sel_img, multichannel=(n_channels == 3))\n"
     ]
    },
    {
     "data": {
      "image/png": "[encoded data removed]",
      "text/plain": [
       "<PIL.Image.Image image mode=RGB size=140x140>"
      ]
     },
     "execution_count": 7,
     "metadata": {},
     "output_type": "execute_result"
    }
   ],
   "source": [
    "x = bloodmnist.imgs / 255.\n",
    "x = x.reshape(-1, 2352)\n",
    "y = pd.Series(bloodmnist.labels.reshape(-1))\n",
    "y = y.astype('int').map(dict(zip(range(0, 8), info['label'].values())))\n",
    "bloodmnist.montage(length=5)"
   ]
  },
  {
   "cell_type": "markdown",
   "id": "52a21f1b",
   "metadata": {
    "id": "X28wqyRdXLwR"
   },
   "source": [
    "### 4a PCA"
   ]
  },
  {
   "cell_type": "code",
   "execution_count": null,
   "id": "7881bf84",
   "metadata": {
    "id": "ApLrKM2RXLwR"
   },
   "outputs": [],
   "source": [
    "## ENTER YOUR CODE HERE ##"
   ]
  },
  {
   "cell_type": "markdown",
   "id": "641f7ec5",
   "metadata": {
    "id": "qNpulMAiXLwR"
   },
   "source": [
    "### 4b t-SNE"
   ]
  },
  {
   "cell_type": "code",
   "execution_count": null,
   "id": "d3900251",
   "metadata": {
    "id": "NrvhQpogXLwS"
   },
   "outputs": [],
   "source": [
    "## ENTER YOUR CODE HERE ##"
   ]
  },
  {
   "cell_type": "markdown",
   "id": "a14f2bb7",
   "metadata": {
    "id": "Mhk64YW2XLwS"
   },
   "source": [
    "### 4c UMAP"
   ]
  },
  {
   "cell_type": "code",
   "execution_count": null,
   "id": "ec81f529",
   "metadata": {
    "id": "x91D7CrpXLwT"
   },
   "outputs": [],
   "source": [
    "## ENTER YOUR CODE HERE ##"
   ]
  },
  {
   "cell_type": "markdown",
   "id": "589ccec9",
   "metadata": {
    "id": "1gV8OPS7XLwT"
   },
   "source": [
    "Выводы:\n",
    "\n",
    "*Ваш текст тут*"
   ]
  },
  {
   "cell_type": "markdown",
   "id": "6fce9ca3",
   "metadata": {
    "id": "Ymu-3MnDXLwU"
   },
   "source": [
    "## Формат результата\n",
    "\n",
    "Пример графика для одного из пунктов задания:\n",
    "\n",
    "<img src =\"https://edunet.kea.su/repo/EduNet-web_dependencies/Exercises/EX04/result_2_task_ex04.png\" width=\"300\">"
   ]
  }
 ],
 "metadata": {
  "kernelspec": {
   "display_name": "Python 3 (ipykernel)",
   "language": "python",
   "name": "python3"
  },
  "language_info": {
   "codemirror_mode": {
    "name": "ipython",
    "version": 3
   },
   "file_extension": ".py",
   "mimetype": "text/x-python",
   "name": "python",
   "nbconvert_exporter": "python",
   "pygments_lexer": "ipython3",
   "version": "3.10.9"
  }
 },
 "nbformat": 4,
 "nbformat_minor": 5
}
