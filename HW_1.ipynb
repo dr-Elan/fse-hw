{
 "cells": [
  {
   "cell_type": "markdown",
   "id": "d2c818b6",
   "metadata": {},
   "source": [
    "# HW 1: Линейная и логистичекая регрессия"
   ]
  },
  {
   "cell_type": "code",
   "execution_count": null,
   "id": "e48a7cc1",
   "metadata": {},
   "outputs": [],
   "source": [
    "import pandas as pd\n",
    "import numpy as np\n",
    "import seaborn as sns\n",
    "from matplotlib import pyplot as plt\n",
    "from scipy import stats\n",
    "from sklearn.preprocessing import LabelEncoder\n",
    "from sklearn.linear_model import LinearRegression\n",
    "from sklearn.model_selection import train_test_split\n",
    "from sklearn.datasets import fetch_california_housing\n",
    "from sklearn.linear_model import LogisticRegression\n",
    "from sklearn.pipeline import make_pipeline\n",
    "from sklearn.preprocessing import StandardScaler"
   ]
  },
  {
   "cell_type": "markdown",
   "id": "4199f9d2",
   "metadata": {},
   "source": [
    "## Линейная регрессия"
   ]
  },
  {
   "cell_type": "code",
   "execution_count": null,
   "id": "fee67f4c",
   "metadata": {},
   "outputs": [],
   "source": [
    "california_housing = fetch_california_housing(as_frame=True)"
   ]
  },
  {
   "cell_type": "markdown",
   "id": "6122aad4",
   "metadata": {},
   "source": [
    "### 1. Получить данные и загрузить их в выборочную среду"
   ]
  },
  {
   "cell_type": "code",
   "execution_count": null,
   "id": "68467816",
   "metadata": {},
   "outputs": [],
   "source": [
    "df = # Enter your code here"
   ]
  },
  {
   "cell_type": "markdown",
   "id": "bec2110d",
   "metadata": {},
   "source": [
    "### 2. Проверить данные на наличие пропусков и удалить их в случае обнаржуения"
   ]
  },
  {
   "cell_type": "code",
   "execution_count": null,
   "id": "37959ca7",
   "metadata": {},
   "outputs": [],
   "source": [
    "# Enter your code here"
   ]
  },
  {
   "cell_type": "markdown",
   "id": "30d2001f",
   "metadata": {},
   "source": [
    "### 3. Разделите выборку на обучающее и тестовое подмножества. 80% данных оставить на обучающее множество, 20% - на тестовое"
   ]
  },
  {
   "cell_type": "code",
   "execution_count": null,
   "id": "484a8d00",
   "metadata": {},
   "outputs": [],
   "source": [
    "X = # Enter your code here\n",
    "y = # Enter your code here"
   ]
  },
  {
   "cell_type": "code",
   "execution_count": null,
   "id": "4d19ea1c",
   "metadata": {},
   "outputs": [],
   "source": [
    "X_train, X_test,y_train, y_test = # Enter your code here\n",
    "model = # Enter your code here"
   ]
  },
  {
   "cell_type": "markdown",
   "id": "2bbad2d6",
   "metadata": {},
   "source": [
    "### 4. Постройте модель линейной регрессии. Вычислите метрики RMSE, R2 на обучающем и тестовом множестве"
   ]
  },
  {
   "cell_type": "code",
   "execution_count": null,
   "id": "66103482",
   "metadata": {},
   "outputs": [],
   "source": [
    "from sklearn.metrics import mean_squared_error"
   ]
  },
  {
   "cell_type": "code",
   "execution_count": null,
   "id": "28e2b5f9",
   "metadata": {},
   "outputs": [],
   "source": [
    "# Вычислить RMSE для для тренировочных данных\n",
    "rmse = # Enter your code here"
   ]
  },
  {
   "cell_type": "code",
   "execution_count": null,
   "id": "9e804206",
   "metadata": {},
   "outputs": [],
   "source": [
    "# Вычислить RMSE для для тестовых данных\n",
    "rmse = # Enter your code here"
   ]
  },
  {
   "cell_type": "code",
   "execution_count": null,
   "id": "1746b453",
   "metadata": {},
   "outputs": [],
   "source": [
    "# Вычислить коэффициент детерминации для тестовых данных\n",
    "# Enter your code here"
   ]
  },
  {
   "cell_type": "code",
   "execution_count": null,
   "id": "c286e698",
   "metadata": {},
   "outputs": [],
   "source": [
    "# Вычислить коэффициент детерминации для тестовых данных\n",
    "# Enter your code here"
   ]
  },
  {
   "cell_type": "markdown",
   "id": "f6e0aa29",
   "metadata": {},
   "source": [
    "### 5. Постройте график распределения целевой переменной. Сделайте вывод. Присутсвтвуют ли в этом признаке выбросы"
   ]
  },
  {
   "cell_type": "code",
   "execution_count": null,
   "id": "7b099582",
   "metadata": {},
   "outputs": [],
   "source": [
    "# Enter your code here"
   ]
  },
  {
   "cell_type": "markdown",
   "id": "fee2d318",
   "metadata": {},
   "source": [
    "### 6. Посчитайте и выведите корреляционную матрицу. Убедитесь, что ячейки поделены на цветные категории, в ячейках указзано числовое значение корреляции"
   ]
  },
  {
   "cell_type": "markdown",
   "id": "e366a5f3",
   "metadata": {},
   "source": [
    "Подсказка: испольуйте пакет sns и его метод heatmap"
   ]
  },
  {
   "cell_type": "code",
   "execution_count": null,
   "id": "c377c12c",
   "metadata": {},
   "outputs": [],
   "source": [
    "# Enter your code here"
   ]
  },
  {
   "cell_type": "markdown",
   "id": "74b0e986",
   "metadata": {},
   "source": [
    "#### Cделайте выводы"
   ]
  },
  {
   "cell_type": "code",
   "execution_count": null,
   "id": "2a50505d",
   "metadata": {},
   "outputs": [],
   "source": [
    "# Вывод"
   ]
  },
  {
   "cell_type": "markdown",
   "id": "b1d4d3ea",
   "metadata": {},
   "source": [
    "### 7. Исследуйте оставленные признаки на выбросы"
   ]
  },
  {
   "cell_type": "code",
   "execution_count": null,
   "id": "7a2beb7a",
   "metadata": {},
   "outputs": [],
   "source": [
    "# Enter your code here"
   ]
  },
  {
   "cell_type": "code",
   "execution_count": null,
   "id": "ac6f49af",
   "metadata": {},
   "outputs": [],
   "source": [
    "X = # Enter your code here\n",
    "y = # Enter your code here"
   ]
  },
  {
   "cell_type": "code",
   "execution_count": null,
   "id": "763a6992",
   "metadata": {},
   "outputs": [],
   "source": [
    "X_train, X_test,y_train, y_test = # Enter your code here\n",
    "one_more_model = # Enter your code here"
   ]
  },
  {
   "cell_type": "code",
   "execution_count": null,
   "id": "d9822161",
   "metadata": {},
   "outputs": [],
   "source": [
    "# Вычислить RMSE для для тестовых данных\n",
    "rmse = # Enter your code here"
   ]
  },
  {
   "cell_type": "code",
   "execution_count": null,
   "id": "855d41b6",
   "metadata": {},
   "outputs": [],
   "source": [
    "# Вычислить RMSE для для тестовых данных\n",
    "rmse = # Enter your code here"
   ]
  },
  {
   "cell_type": "markdown",
   "id": "9d407ab5",
   "metadata": {},
   "source": [
    "### 8. Измените несколько признаков на выбор математически. Например, вычислите логарифм, возведите в квадрат, извлеките квадратный корень."
   ]
  },
  {
   "cell_type": "code",
   "execution_count": null,
   "id": "d8b3c15f",
   "metadata": {},
   "outputs": [],
   "source": [
    "X_modified = # Enter your code here"
   ]
  },
  {
   "cell_type": "code",
   "execution_count": null,
   "id": "5ab88637",
   "metadata": {},
   "outputs": [],
   "source": [
    "X_train, X_test, y_train, y_test =# Enter your code here"
   ]
  },
  {
   "cell_type": "code",
   "execution_count": null,
   "id": "a0b8ab30",
   "metadata": {},
   "outputs": [],
   "source": [
    "math_transform_model = LinearRegression()\n",
    "# Enter your code here"
   ]
  },
  {
   "cell_type": "code",
   "execution_count": null,
   "id": "000bcbd9",
   "metadata": {},
   "outputs": [],
   "source": [
    "# Вычислить RMSE для для тестовых данных\n",
    "rmse =# Enter your code here"
   ]
  },
  {
   "cell_type": "code",
   "execution_count": null,
   "id": "3653597c",
   "metadata": {},
   "outputs": [],
   "source": [
    "# Вычислить RMSE для для тестовых данных\n",
    "rmse =# Enter your code here"
   ]
  },
  {
   "cell_type": "markdown",
   "id": "2c40dc83",
   "metadata": {},
   "source": [
    "### 9. Cформулируйте выводы по проделанной работе"
   ]
  },
  {
   "cell_type": "code",
   "execution_count": null,
   "id": "97385d0c",
   "metadata": {},
   "outputs": [],
   "source": [
    "# Вывод"
   ]
  },
  {
   "cell_type": "markdown",
   "id": "d8b5ce5b",
   "metadata": {
    "id": "venUZf1PucTW"
   },
   "source": [
    "### 10. (EXTRA) : Своя реализация линейной регрессии\n",
    "\n",
    "Сделайте свою реализацию линейной регрессии используя исключительно numpy и стандартным python на датасете, определённом выше"
   ]
  },
  {
   "cell_type": "markdown",
   "id": "48079467",
   "metadata": {
    "id": "7fBd4DP4ucTW"
   },
   "source": [
    "Используйте метод наименьших квадратов: [МНК простейшие частные случаи](https://ru.wikipedia.org/wiki/Метод_наименьших_квадратов#Простейшие_частные_случаи)"
   ]
  },
  {
   "cell_type": "code",
   "execution_count": null,
   "id": "1e9ed4c4",
   "metadata": {
    "colab": {
     "base_uri": "https://localhost:8080/",
     "height": 637
    },
    "id": "C3rbxf2uucTW",
    "outputId": "c44fb99a-2c71-4fbd-fb91-b33f92170f30"
   },
   "outputs": [],
   "source": [
    "import numpy as np \n",
    "import matplotlib.pyplot as plt\n",
    "from sklearn.metrics import mean_squared_error, r2_score\n",
    "from sklearn.metrics import accuracy_score  \n",
    "np.random.seed(0)\n",
    "x = np.random.rand(100, 1)\n",
    "y = 2 + 3 * x + np.random.rand(100, 1)\n",
    "# Linear regression\n",
    "# your code here\n",
    "n = len(x)\n",
    "\n",
    "a = # Enter your code here\n",
    "b = # Enter your code here\n",
    "coefs = # Enter your code here\n",
    "y_predicted = a*x+b \n",
    "\n",
    "print(\"Estimated coefficients:\\nb_0 = {} nb_1 = {}\".format(coefs[0], coefs[1])) \n",
    "print(' mean squared error: ', mean_squared_error(y, y_predicted))\n",
    "print('R2 score: ', r2_score(y, y_predicted))\n",
    "\n",
    "\n",
    "plt.scatter(x, y, s=10)\n",
    "plt.plot(x, y_predicted, color='r')\n",
    "plt.xlabel('x')\n",
    "plt.ylabel('y')\n",
    "plt.show()"
   ]
  },
  {
   "cell_type": "markdown",
   "id": "30f97b0e",
   "metadata": {},
   "source": [
    "**Формат результата:**\n"
   ]
  },
  {
   "cell_type": "markdown",
   "id": "58591b89",
   "metadata": {},
   "source": [
    "Estimated coefficients:\n",
    "b_0 = [2.93655106] nb_1 = [2.55808002]\n",
    " mean squared error:  0.07623324582875007\n",
    "R2 score:  0.9038655568672764"
   ]
  },
  {
   "cell_type": "markdown",
   "id": "7759d18b",
   "metadata": {},
   "source": [
    "## Логистическая регресия и классификация"
   ]
  },
  {
   "cell_type": "markdown",
   "id": "ca65daee",
   "metadata": {},
   "source": [
    "### 11. Классификация на данных датасета adult.csv"
   ]
  },
  {
   "cell_type": "markdown",
   "id": "ce5224e9",
   "metadata": {},
   "source": [
    "- Загружаем данные"
   ]
  },
  {
   "cell_type": "code",
   "execution_count": null,
   "id": "0f55f26e",
   "metadata": {},
   "outputs": [],
   "source": [
    "df = pd.read_csv('adult.csv')"
   ]
  },
  {
   "cell_type": "markdown",
   "id": "5ac526d6",
   "metadata": {},
   "source": [
    "- Первичный анализ "
   ]
  },
  {
   "cell_type": "code",
   "execution_count": null,
   "id": "8b1730bd",
   "metadata": {},
   "outputs": [],
   "source": [
    "# Enter your code here"
   ]
  },
  {
   "cell_type": "markdown",
   "id": "730fb832",
   "metadata": {},
   "source": [
    "- Проверка наличия пропусков"
   ]
  },
  {
   "cell_type": "code",
   "execution_count": null,
   "id": "2f5694d6",
   "metadata": {},
   "outputs": [],
   "source": [
    "# Enter your code here"
   ]
  },
  {
   "cell_type": "markdown",
   "id": "f13410d3",
   "metadata": {},
   "source": [
    "- Построение графиков"
   ]
  },
  {
   "cell_type": "code",
   "execution_count": null,
   "id": "5e55f368",
   "metadata": {},
   "outputs": [],
   "source": [
    "# Enter your code here"
   ]
  },
  {
   "cell_type": "code",
   "execution_count": null,
   "id": "87d7c882",
   "metadata": {},
   "outputs": [],
   "source": [
    "sns.histplot(# Enter your code here)"
   ]
  },
  {
   "cell_type": "code",
   "execution_count": null,
   "id": "8d0ed75d",
   "metadata": {},
   "outputs": [],
   "source": [
    "# Enter your code here"
   ]
  },
  {
   "cell_type": "markdown",
   "id": "ca722336",
   "metadata": {},
   "source": [
    "- Выберем категориальные признаки"
   ]
  },
  {
   "cell_type": "code",
   "execution_count": null,
   "id": "db6903ef",
   "metadata": {},
   "outputs": [],
   "source": [
    "categorial_data = # Enter your code here"
   ]
  },
  {
   "cell_type": "markdown",
   "id": "1dc706f0",
   "metadata": {},
   "source": [
    "- Разделить выборку на обучающее и тестовое подмножетсва."
   ]
  },
  {
   "cell_type": "code",
   "execution_count": null,
   "id": "1986ea6e",
   "metadata": {},
   "outputs": [],
   "source": [
    "X = # Enter your code here"
   ]
  },
  {
   "cell_type": "code",
   "execution_count": null,
   "id": "be891c63",
   "metadata": {},
   "outputs": [],
   "source": [
    "# целевая переменная (столбец income) снова является категориальной\n",
    "# переведем значения столбца в числа, оставив один столбец\n",
    "le = LabelEncoder()"
   ]
  },
  {
   "cell_type": "code",
   "execution_count": null,
   "id": "766a407a",
   "metadata": {},
   "outputs": [],
   "source": [
    "le.fit( df['income'] )"
   ]
  },
  {
   "cell_type": "code",
   "execution_count": null,
   "id": "05e4dd00",
   "metadata": {},
   "outputs": [],
   "source": [
    "y = # Enter your code here"
   ]
  },
  {
   "cell_type": "markdown",
   "id": "6b142fa6",
   "metadata": {},
   "source": [
    "- Разделим данные на обучающие и тестовы"
   ]
  },
  {
   "cell_type": "code",
   "execution_count": null,
   "id": "21bd4556",
   "metadata": {},
   "outputs": [],
   "source": [
    "X_train, X_test, y_train, y_test = # Enter your code here"
   ]
  },
  {
   "cell_type": "markdown",
   "id": "099f8837",
   "metadata": {},
   "source": [
    "- Логистические регрессии"
   ]
  },
  {
   "cell_type": "code",
   "execution_count": null,
   "id": "c418a090",
   "metadata": {},
   "outputs": [],
   "source": [
    "log_model = # Enter your code here"
   ]
  },
  {
   "cell_type": "markdown",
   "id": "5bded16e",
   "metadata": {},
   "source": [
    "- 80% данных оставить на обучающее множество, 20% на тестовое. Обучите модель и сделайте предикт:"
   ]
  },
  {
   "cell_type": "code",
   "execution_count": null,
   "id": "f1e17c7c",
   "metadata": {},
   "outputs": [],
   "source": [
    "# Enter your code here"
   ]
  },
  {
   "cell_type": "code",
   "execution_count": null,
   "id": "5b917bec",
   "metadata": {},
   "outputs": [],
   "source": [
    "predictions = # Enter your code here"
   ]
  },
  {
   "cell_type": "markdown",
   "id": "1978e870",
   "metadata": {},
   "source": [
    "### 12. Выводы:"
   ]
  }
 ],
 "metadata": {
  "kernelspec": {
   "display_name": "Python 3 (ipykernel)",
   "language": "python",
   "name": "python3"
  },
  "language_info": {
   "codemirror_mode": {
    "name": "ipython",
    "version": 3
   },
   "file_extension": ".py",
   "mimetype": "text/x-python",
   "name": "python",
   "nbconvert_exporter": "python",
   "pygments_lexer": "ipython3",
   "version": "3.10.9"
  }
 },
 "nbformat": 4,
 "nbformat_minor": 5
}
